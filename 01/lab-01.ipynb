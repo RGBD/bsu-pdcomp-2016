{
 "cells": [
  {
   "cell_type": "markdown",
   "metadata": {},
   "source": [
    "### Лабораторная работа 1\n",
    "\n",
    "Перемножение матриц.\n",
    "\n",
    "Матрицы хранятся в:\n",
    "```\n",
    "vector<vector<int>>\n",
    "```\n",
    "\n",
    "Исходные коды в прилагаемых файлах."
   ]
  },
  {
   "cell_type": "code",
   "execution_count": 1,
   "metadata": {
    "collapsed": false
   },
   "outputs": [
    {
     "name": "stdout",
     "output_type": "stream",
     "text": [
      "Populating the interactive namespace from numpy and matplotlib\n"
     ]
    }
   ],
   "source": [
    "%pylab inline"
   ]
  },
  {
   "cell_type": "code",
   "execution_count": 2,
   "metadata": {
    "collapsed": false
   },
   "outputs": [],
   "source": [
    "def parse_time_line(line):\n",
    "    command, results = [x.strip() for x in line.split('|')]\n",
    "    command = command.split()\n",
    "    command = [command[0]] + [int(x) for x in command[1:]]\n",
    "    results = [float(x) for x in results.split()]\n",
    "    return command, results"
   ]
  },
  {
   "cell_type": "markdown",
   "metadata": {},
   "source": [
    "#### Наивная версия\n",
    "\n",
    "```\n",
    "for i\n",
    "    for j\n",
    "        for k\n",
    "            c[i][j] = a[i][k] * b[k][j]\n",
    "```"
   ]
  },
  {
   "cell_type": "code",
   "execution_count": 3,
   "metadata": {
    "collapsed": false
   },
   "outputs": [],
   "source": [
    "with open('naive.txt', 'r') as f:\n",
    "    lines = [parse_time_line(line) for line in f.readlines()]"
   ]
  },
  {
   "cell_type": "code",
   "execution_count": 4,
   "metadata": {
    "collapsed": false
   },
   "outputs": [],
   "source": [
    "xs = array([line[0][1] for line in lines])[::3]\n",
    "ys_naive = np.min(array([line[1][0] for line in lines]).reshape((len(lines) // 3, 3)), axis=1)"
   ]
  },
  {
   "cell_type": "code",
   "execution_count": 5,
   "metadata": {
    "collapsed": false
   },
   "outputs": [
    {
     "data": {
      "text/plain": [
       "array([-22.7945046 ,   3.44409094])"
      ]
     },
     "execution_count": 5,
     "metadata": {},
     "output_type": "execute_result"
    }
   ],
   "source": [
    "xs_logs = stack((ones_like(xs), log(xs))).T\n",
    "ys_naive_logs = log(ys_naive)\n",
    "\n",
    "interp = linalg.lstsq(xs_logs, ys_naive_logs)[0]\n",
    "ys_naive_interp = e ** (sum(xs_logs * interp, axis=1))\n",
    "interp"
   ]
  },
  {
   "cell_type": "code",
   "execution_count": 6,
   "metadata": {
    "collapsed": false
   },
   "outputs": [
    {
     "data": {
      "text/plain": [
       "[<matplotlib.lines.Line2D at 0x7f7892fbd6a0>]"
      ]
     },
     "execution_count": 6,
     "metadata": {},
     "output_type": "execute_result"
    },
    {
     "data": {
      "image/png": "[encoded data removed]",
      "text/plain": [
       "<matplotlib.figure.Figure at 0x7f7892fd15f8>"
      ]
     },
     "metadata": {},
     "output_type": "display_data"
    }
   ],
   "source": [
    "fig = figure()\n",
    "ax = fig.add_subplot(111)\n",
    "ax.plot(xs, ys_naive, 'bo')\n",
    "ax.plot(xs, ys_naive_interp, 'b')"
   ]
  },
  {
   "cell_type": "markdown",
   "metadata": {},
   "source": [
    "#### Параллельная версия\n",
    "Параллелим по циклу i.\n",
    "- Если параллелить по циклу i, ядра начинают портить друг другу кэш, происходит замедление.\n",
    "- Если параллелить по k, нашу единственную операцию придется делать атомарной, и программа работает медленнее наивной в десятки раз."
   ]
  },
  {
   "cell_type": "code",
   "execution_count": 7,
   "metadata": {
    "collapsed": false
   },
   "outputs": [],
   "source": [
    "with open('parallel.txt', 'r') as f:\n",
    "    lines = [parse_time_line(line) for line in f.readlines()]"
   ]
  },
  {
   "cell_type": "code",
   "execution_count": 8,
   "metadata": {
    "collapsed": false
   },
   "outputs": [],
   "source": [
    "xs = array([line[0][1] for line in lines])[::3]\n",
    "ys_parallel = np.min(array([line[1][0] for line in lines]).reshape((len(lines) // 3, 3)), axis=1)"
   ]
  },
  {
   "cell_type": "code",
   "execution_count": 9,
   "metadata": {
    "collapsed": false
   },
   "outputs": [
    {
     "data": {
      "text/plain": [
       "array([-24.62023701,   3.62808196])"
      ]
     },
     "execution_count": 9,
     "metadata": {},
     "output_type": "execute_result"
    }
   ],
   "source": [
    "xs_logs = stack((ones_like(xs), log(xs))).T\n",
    "ys_parallel_logs = log(ys_parallel)\n",
    "\n",
    "interp = linalg.lstsq(xs_logs, ys_parallel_logs)[0]\n",
    "ys_parallel_interp = e ** (sum(xs_logs * interp, axis=1))\n",
    "interp"
   ]
  },
  {
   "cell_type": "code",
   "execution_count": 10,
   "metadata": {
    "collapsed": false
   },
   "outputs": [
    {
     "data": {
      "text/plain": [
       "[<matplotlib.lines.Line2D at 0x7f7892ef1e10>]"
      ]
     },
     "execution_count": 10,
     "metadata": {},
     "output_type": "execute_result"
    },
    {
     "data": {
      "image/png": "[encoded data removed]",
      "text/plain": [
       "<matplotlib.figure.Figure at 0x7f7892ffb160>"
      ]
     },
     "metadata": {},
     "output_type": "display_data"
    }
   ],
   "source": [
    "fig = figure()\n",
    "ax = fig.add_subplot(111)\n",
    "ax.plot(xs, ys_naive, 'bo')\n",
    "ax.plot(xs, ys_naive_interp, 'b')\n",
    "ax.plot(xs, ys_parallel, 'ro')\n",
    "ax.plot(xs, ys_parallel_interp, 'r')"
   ]
  },
  {
   "cell_type": "markdown",
   "metadata": {},
   "source": [
    "Cокращение времени работы\n",
    "\n",
    "На компьютере 2 физических, 4 виртуальных ядра."
   ]
  },
  {
   "cell_type": "code",
   "execution_count": 11,
   "metadata": {
    "collapsed": false
   },
   "outputs": [
    {
     "data": {
      "text/plain": [
       "[<matplotlib.lines.Line2D at 0x7f7892e5f7f0>]"
      ]
     },
     "execution_count": 11,
     "metadata": {},
     "output_type": "execute_result"
    },
    {
     "data": {
      "image/png": "[encoded data removed]",
      "text/plain": [
       "<matplotlib.figure.Figure at 0x7f7892f3f518>"
      ]
     },
     "metadata": {},
     "output_type": "display_data"
    }
   ],
   "source": [
    "fig = figure()\n",
    "ax = fig.add_subplot(111)\n",
    "#ax.set_xscale(\"log\")\n",
    "#ax.set_yscale(\"log\")\n",
    "#ax.axis('equal')\n",
    "ax.set_autoscaley_on(False)\n",
    "ax.set_ybound(lower=0, upper=1)\n",
    "ax.plot(xs, ys_parallel / ys_naive)"
   ]
  },
  {
   "cell_type": "markdown",
   "metadata": {},
   "source": [
    "### Разбиение на блоки"
   ]
  },
  {
   "cell_type": "markdown",
   "metadata": {},
   "source": [
    "Цикл по каждой переменной разбит на блоки (смотри код).\n",
    "Для матриц размера 1000 подбирается оптимальный размер блока."
   ]
  },
  {
   "cell_type": "code",
   "execution_count": 12,
   "metadata": {
    "collapsed": false
   },
   "outputs": [],
   "source": [
    "with open('blocky.txt', 'r') as f:\n",
    "    lines = [parse_time_line(line) for line in f.readlines()]"
   ]
  },
  {
   "cell_type": "code",
   "execution_count": 13,
   "metadata": {
    "collapsed": false
   },
   "outputs": [],
   "source": [
    "bs = array([line[0][2] for line in lines])[::3]\n",
    "ys_blocky_full = array([line[1][0] for line in lines]).reshape((len(lines) // 3, 3))\n",
    "ys_blocky = np.min(ys_blocky_full, axis=1)"
   ]
  },
  {
   "cell_type": "code",
   "execution_count": 14,
   "metadata": {
    "collapsed": false
   },
   "outputs": [
    {
     "data": {
      "text/plain": [
       "[<matplotlib.lines.Line2D at 0x7f7892e255c0>]"
      ]
     },
     "execution_count": 14,
     "metadata": {},
     "output_type": "execute_result"
    },
    {
     "data": {
      "image/png": "[encoded data removed]",
      "text/plain": [
       "<matplotlib.figure.Figure at 0x7f7892eb4b00>"
      ]
     },
     "metadata": {},
     "output_type": "display_data"
    }
   ],
   "source": [
    "fig = figure()\n",
    "ax = fig.add_subplot(111)\n",
    "ax.set_xscale(\"log\")\n",
    "ax.set_yscale(\"log\")\n",
    "ax.axis('equal')\n",
    "plt.xlabel('block size')\n",
    "plt.ylabel('time')\n",
    "ax.plot(bs, ys_blocky, 'bo')"
   ]
  },
  {
   "cell_type": "markdown",
   "metadata": {
    "collapsed": true
   },
   "source": [
    "Оптимальный размер блока --- 50."
   ]
  },
  {
   "cell_type": "markdown",
   "metadata": {},
   "source": [
    "#### Производительность при оптимальном размере блока."
   ]
  },
  {
   "cell_type": "code",
   "execution_count": 15,
   "metadata": {
    "collapsed": false
   },
   "outputs": [],
   "source": [
    "with open('block-optimal.txt', 'r') as f:\n",
    "    lines = [parse_time_line(line) for line in f.readlines()]"
   ]
  },
  {
   "cell_type": "code",
   "execution_count": 16,
   "metadata": {
    "collapsed": false
   },
   "outputs": [],
   "source": [
    "xs = array([line[0][1] for line in lines])[::3]\n",
    "ys_blockopt = np.min(array([line[1][0] for line in lines]).reshape((len(lines) // 3, 3)), axis=1)"
   ]
  },
  {
   "cell_type": "code",
   "execution_count": 17,
   "metadata": {
    "collapsed": false
   },
   "outputs": [
    {
     "data": {
      "text/plain": [
       "array([-20.52663121,   2.9996205 ])"
      ]
     },
     "execution_count": 17,
     "metadata": {},
     "output_type": "execute_result"
    }
   ],
   "source": [
    "xs_logs = stack((ones_like(xs), log(xs))).T\n",
    "ys_blockopt_logs = log(ys_blockopt)\n",
    "\n",
    "interp = linalg.lstsq(xs_logs, ys_blockopt_logs)[0]\n",
    "ys_blockopt_interp = e ** (sum(xs_logs * interp, axis=1))\n",
    "interp"
   ]
  },
  {
   "cell_type": "code",
   "execution_count": 18,
   "metadata": {
    "collapsed": false
   },
   "outputs": [
    {
     "data": {
      "text/plain": [
       "array([  0.02,   0.04,   0.07,   0.15,   0.3 ,   0.61,   1.21,   2.53,\n",
       "         4.81,   9.56,  19.25])"
      ]
     },
     "execution_count": 18,
     "metadata": {},
     "output_type": "execute_result"
    }
   ],
   "source": [
    "ys_blockopt"
   ]
  },
  {
   "cell_type": "code",
   "execution_count": 19,
   "metadata": {
    "collapsed": false
   },
   "outputs": [
    {
     "data": {
      "text/plain": [
       "[<matplotlib.lines.Line2D at 0x7f7892c20860>]"
      ]
     },
     "execution_count": 19,
     "metadata": {},
     "output_type": "execute_result"
    },
    {
     "data": {
      "image/png": "[encoded data removed]",
      "text/plain": [
       "<matplotlib.figure.Figure at 0x7f7892cfd9b0>"
      ]
     },
     "metadata": {},
     "output_type": "display_data"
    }
   ],
   "source": [
    "fig = figure()\n",
    "ax = fig.add_subplot(111)\n",
    "#ax.set_xscale(\"log\")\n",
    "#ax.set_yscale(\"log\")\n",
    "#ax.axis('equal')\n",
    "ax.plot(xs, ys_naive, 'bo')\n",
    "ax.plot(xs, ys_naive_interp, 'b')\n",
    "ax.plot(xs, ys_parallel, 'ro')\n",
    "ax.plot(xs, ys_parallel_interp, 'r')\n",
    "ax.plot(xs, ys_blockopt, 'go')\n",
    "ax.plot(xs, ys_blockopt_interp, 'g')"
   ]
  },
  {
   "cell_type": "markdown",
   "metadata": {},
   "source": [
    "Ускорение:"
   ]
  },
  {
   "cell_type": "code",
   "execution_count": 20,
   "metadata": {
    "collapsed": false
   },
   "outputs": [
    {
     "data": {
      "text/plain": [
       "0.26055766107200867"
      ]
     },
     "execution_count": 20,
     "metadata": {},
     "output_type": "execute_result"
    },
    {
     "data": {
      "image/png": "[encoded data removed]",
      "text/plain": [
       "<matplotlib.figure.Figure at 0x7f7892d05978>"
      ]
     },
     "metadata": {},
     "output_type": "display_data"
    }
   ],
   "source": [
    "fig = figure()\n",
    "ax = fig.add_subplot(111)\n",
    "ax.set_autoscaley_on(False)\n",
    "ax.set_ybound(lower=0, upper=1)\n",
    "ax.plot(xs, ys_blockopt / ys_naive)\n",
    "(ys_blockopt / ys_naive).min()"
   ]
  },
  {
   "cell_type": "markdown",
   "metadata": {},
   "source": [
    "### Параллельная блочная версия.\n",
    "Прирост производительности по сравнению с наивной реализацией.\n",
    "Параллелим по внешнему циклу."
   ]
  },
  {
   "cell_type": "code",
   "execution_count": 21,
   "metadata": {
    "collapsed": false
   },
   "outputs": [],
   "source": [
    "with open('fast.txt', 'r') as f:\n",
    "    lines = [parse_time_line(line) for line in f.readlines()]"
   ]
  },
  {
   "cell_type": "code",
   "execution_count": 22,
   "metadata": {
    "collapsed": false
   },
   "outputs": [],
   "source": [
    "xs = array([line[0][1] for line in lines])[::3]\n",
    "ys_fast = np.min(array([line[1][0] for line in lines]).reshape((len(lines) // 3, 3)), axis=1)"
   ]
  },
  {
   "cell_type": "code",
   "execution_count": 23,
   "metadata": {
    "collapsed": false
   },
   "outputs": [
    {
     "data": {
      "text/plain": [
       "array([-21.90692785,   3.13273572])"
      ]
     },
     "execution_count": 23,
     "metadata": {},
     "output_type": "execute_result"
    }
   ],
   "source": [
    "xs_logs = stack((ones_like(xs), log(xs))).T\n",
    "ys_fast_logs = log(ys_fast)\n",
    "\n",
    "interp = linalg.lstsq(xs_logs, ys_fast_logs)[0]\n",
    "ys_fast_interp = e ** (sum(xs_logs * interp, axis=1))\n",
    "interp"
   ]
  },
  {
   "cell_type": "code",
   "execution_count": 24,
   "metadata": {
    "collapsed": false
   },
   "outputs": [
    {
     "data": {
      "text/plain": [
       "[<matplotlib.lines.Line2D at 0x7f7892b6aa58>]"
      ]
     },
     "execution_count": 24,
     "metadata": {},
     "output_type": "execute_result"
    },
    {
     "data": {
      "image/png": "[encoded data removed]",
      "text/plain": [
       "<matplotlib.figure.Figure at 0x7f7892c9c978>"
      ]
     },
     "metadata": {},
     "output_type": "display_data"
    }
   ],
   "source": [
    "fig = figure()\n",
    "ax = fig.add_subplot(111)\n",
    "#ax.set_xscale(\"log\")\n",
    "#ax.set_yscale(\"log\")\n",
    "#ax.axis('equal')\n",
    "ax.plot(xs, ys_naive, 'bo')\n",
    "ax.plot(xs, ys_naive_interp, 'b')\n",
    "ax.plot(xs, ys_parallel, 'ro')\n",
    "ax.plot(xs, ys_parallel_interp, 'r')\n",
    "ax.plot(xs, ys_blockopt, 'go')\n",
    "ax.plot(xs, ys_blockopt_interp, 'g')\n",
    "ax.plot(xs, ys_fast, 'yo')\n",
    "ax.plot(xs, ys_fast_interp, 'y')"
   ]
  },
  {
   "cell_type": "code",
   "execution_count": 25,
   "metadata": {
    "collapsed": false
   },
   "outputs": [
    {
     "data": {
      "text/plain": [
       "[<matplotlib.lines.Line2D at 0x7f7892ae7828>]"
      ]
     },
     "execution_count": 25,
     "metadata": {},
     "output_type": "execute_result"
    },
    {
     "data": {
      "image/png": "[encoded data removed]",
      "text/plain": [
       "<matplotlib.figure.Figure at 0x7f7892b78710>"
      ]
     },
     "metadata": {},
     "output_type": "display_data"
    }
   ],
   "source": [
    "fig = figure()\n",
    "ax = fig.add_subplot(111)\n",
    "ax.set_xscale(\"log\")\n",
    "ax.set_yscale(\"log\")\n",
    "#ax.axis('equal')\n",
    "ax.plot(xs, ys_naive, 'bo')\n",
    "ax.plot(xs, ys_naive_interp, 'b')\n",
    "ax.plot(xs, ys_parallel, 'ro')\n",
    "ax.plot(xs, ys_parallel_interp, 'r')\n",
    "ax.plot(xs, ys_blockopt, 'go')\n",
    "ax.plot(xs, ys_blockopt_interp, 'g')\n",
    "ax.plot(xs, ys_fast, 'yo')\n",
    "ax.plot(xs, ys_fast_interp, 'y')"
   ]
  },
  {
   "cell_type": "code",
   "execution_count": 26,
   "metadata": {
    "collapsed": false
   },
   "outputs": [
    {
     "data": {
      "text/plain": [
       "0.17514889009204115"
      ]
     },
     "execution_count": 26,
     "metadata": {},
     "output_type": "execute_result"
    },
    {
     "data": {
      "image/png": "[encoded data removed]",
      "text/plain": [
       "<matplotlib.figure.Figure at 0x7f7892ca54e0>"
      ]
     },
     "metadata": {},
     "output_type": "display_data"
    }
   ],
   "source": [
    "fig = figure()\n",
    "ax = fig.add_subplot(111)\n",
    "ax.set_autoscaley_on(False)\n",
    "ax.set_ybound(lower=0, upper=1)\n",
    "ax.plot(xs, ys_fast / ys_naive)\n",
    "(ys_fast / ys_naive).min()"
   ]
  },
  {
   "cell_type": "markdown",
   "metadata": {},
   "source": [
    "Максимальное ускорение в 5 раз на больших матрицах."
   ]
  }
 ],
 "metadata": {
  "kernelspec": {
   "display_name": "Python 3",
   "language": "python",
   "name": "python3"
  },
  "language_info": {
   "codemirror_mode": {
    "name": "ipython",
    "version": 3
   },
   "file_extension": ".py",
   "mimetype": "text/x-python",
   "name": "python",
   "nbconvert_exporter": "python",
   "pygments_lexer": "ipython3",
   "version": "3.5.2"
  }
 },
 "nbformat": 4,
 "nbformat_minor": 0
}
